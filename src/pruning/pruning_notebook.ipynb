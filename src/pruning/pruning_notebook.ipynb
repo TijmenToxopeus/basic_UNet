{
 "cells": [
  {
   "cell_type": "code",
   "execution_count": null,
   "id": "ba80d704",
   "metadata": {},
   "outputs": [],
   "source": [
    "import os\n",
    "import sys\n",
    "\n",
    "PROJECT_ROOT = \"/media/ttoxopeus/basic_UNet\"\n",
    "\n",
    "if PROJECT_ROOT not in sys.path:\n",
    "    sys.path.append(PROJECT_ROOT)\n",
    "    print(f\"✅ Added project root to sys.path:\\n   {PROJECT_ROOT}\")\n",
    "else:\n",
    "    print(f\"ℹ️ Project root already in sys.path:\\n   {PROJECT_ROOT}\")\n",
    "\n",
    "\n",
    "from src.models.unet import UNet\n",
    "from src.pruning.model_inspect import print_model_summary, model_to_dataframe, model_to_dataframe_with_l1"
   ]
  },
  {
   "cell_type": "markdown",
   "id": "de3b6577",
   "metadata": {},
   "source": []
  },
  {
   "cell_type": "code",
   "execution_count": null,
   "id": "f100712d",
   "metadata": {},
   "outputs": [],
   "source": [
    "# Create baseline model\n",
    "model = UNet(in_ch=1, out_ch=4, features=[64, 128, 256, 512])\n",
    "\n",
    "# Print summary\n",
    "print_model_summary(model)\n",
    "df = model_to_dataframe(model)\n",
    "display(df.head(10))\n"
   ]
  },
  {
   "cell_type": "code",
   "execution_count": null,
   "id": "36d8d658",
   "metadata": {},
   "outputs": [],
   "source": [
    "df = model_to_dataframe_with_l1(model)\n",
    "display(df)"
   ]
  },
  {
   "cell_type": "code",
   "execution_count": null,
   "id": "976be945",
   "metadata": {},
   "outputs": [],
   "source": []
  }
 ],
 "metadata": {
  "kernelspec": {
   "display_name": "base",
   "language": "python",
   "name": "python3"
  },
  "language_info": {
   "codemirror_mode": {
    "name": "ipython",
    "version": 3
   },
   "file_extension": ".py",
   "mimetype": "text/x-python",
   "name": "python",
   "nbconvert_exporter": "python",
   "pygments_lexer": "ipython3",
   "version": "3.13.5"
  }
 },
 "nbformat": 4,
 "nbformat_minor": 5
}
